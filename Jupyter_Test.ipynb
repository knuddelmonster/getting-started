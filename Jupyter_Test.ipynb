{
 "cells": [
  {
   "cell_type": "code",
   "execution_count": 1,
   "metadata": {},
   "outputs": [],
   "source": [
    "import numpy as np\n",
    "import pandas as pd"
   ]
  },
  {
   "cell_type": "code",
   "execution_count": 2,
   "metadata": {},
   "outputs": [],
   "source": [
    "dates = pd.date_range('20190901', periods=10)"
   ]
  },
  {
   "cell_type": "code",
   "execution_count": 3,
   "metadata": {},
   "outputs": [],
   "source": [
    "df = pd.DataFrame(np.random.randn(10,5),index=dates,columns={\"Rand_A\", \"Rand_B\", \"Rand_C\", \"Rand_D\", \"Rand_E\"})"
   ]
  },
  {
   "cell_type": "code",
   "execution_count": 4,
   "metadata": {},
   "outputs": [
    {
     "data": {
      "text/html": [
       "<div>\n",
       "<style scoped>\n",
       "    .dataframe tbody tr th:only-of-type {\n",
       "        vertical-align: middle;\n",
       "    }\n",
       "\n",
       "    .dataframe tbody tr th {\n",
       "        vertical-align: top;\n",
       "    }\n",
       "\n",
       "    .dataframe thead th {\n",
       "        text-align: right;\n",
       "    }\n",
       "</style>\n",
       "<table border=\"1\" class=\"dataframe\">\n",
       "  <thead>\n",
       "    <tr style=\"text-align: right;\">\n",
       "      <th></th>\n",
       "      <th>Rand_A</th>\n",
       "      <th>Rand_E</th>\n",
       "      <th>Rand_C</th>\n",
       "      <th>Rand_D</th>\n",
       "      <th>Rand_B</th>\n",
       "    </tr>\n",
       "  </thead>\n",
       "  <tbody>\n",
       "    <tr>\n",
       "      <td>2019-09-01</td>\n",
       "      <td>2.096743</td>\n",
       "      <td>1.162213</td>\n",
       "      <td>0.946007</td>\n",
       "      <td>0.469895</td>\n",
       "      <td>-0.063780</td>\n",
       "    </tr>\n",
       "    <tr>\n",
       "      <td>2019-09-02</td>\n",
       "      <td>0.932560</td>\n",
       "      <td>-0.439122</td>\n",
       "      <td>1.729468</td>\n",
       "      <td>0.583514</td>\n",
       "      <td>-0.287404</td>\n",
       "    </tr>\n",
       "    <tr>\n",
       "      <td>2019-09-03</td>\n",
       "      <td>-0.674822</td>\n",
       "      <td>-0.351544</td>\n",
       "      <td>1.314772</td>\n",
       "      <td>-1.644808</td>\n",
       "      <td>-1.113318</td>\n",
       "    </tr>\n",
       "    <tr>\n",
       "      <td>2019-09-04</td>\n",
       "      <td>-0.891556</td>\n",
       "      <td>-0.936772</td>\n",
       "      <td>0.204944</td>\n",
       "      <td>0.880675</td>\n",
       "      <td>0.348416</td>\n",
       "    </tr>\n",
       "    <tr>\n",
       "      <td>2019-09-05</td>\n",
       "      <td>-0.426171</td>\n",
       "      <td>0.926382</td>\n",
       "      <td>-0.290354</td>\n",
       "      <td>1.407266</td>\n",
       "      <td>-0.942922</td>\n",
       "    </tr>\n",
       "    <tr>\n",
       "      <td>2019-09-06</td>\n",
       "      <td>0.282148</td>\n",
       "      <td>2.146523</td>\n",
       "      <td>-0.155217</td>\n",
       "      <td>0.320865</td>\n",
       "      <td>0.442007</td>\n",
       "    </tr>\n",
       "    <tr>\n",
       "      <td>2019-09-07</td>\n",
       "      <td>-0.075802</td>\n",
       "      <td>0.142222</td>\n",
       "      <td>-0.635275</td>\n",
       "      <td>-0.519280</td>\n",
       "      <td>0.112458</td>\n",
       "    </tr>\n",
       "    <tr>\n",
       "      <td>2019-09-08</td>\n",
       "      <td>0.908411</td>\n",
       "      <td>0.131336</td>\n",
       "      <td>0.879687</td>\n",
       "      <td>-0.016738</td>\n",
       "      <td>0.552398</td>\n",
       "    </tr>\n",
       "    <tr>\n",
       "      <td>2019-09-09</td>\n",
       "      <td>0.655663</td>\n",
       "      <td>-0.599569</td>\n",
       "      <td>-0.230790</td>\n",
       "      <td>0.213878</td>\n",
       "      <td>0.167466</td>\n",
       "    </tr>\n",
       "    <tr>\n",
       "      <td>2019-09-10</td>\n",
       "      <td>-0.554291</td>\n",
       "      <td>0.984001</td>\n",
       "      <td>-0.671716</td>\n",
       "      <td>2.006060</td>\n",
       "      <td>-1.097236</td>\n",
       "    </tr>\n",
       "  </tbody>\n",
       "</table>\n",
       "</div>"
      ],
      "text/plain": [
       "              Rand_A    Rand_E    Rand_C    Rand_D    Rand_B\n",
       "2019-09-01  2.096743  1.162213  0.946007  0.469895 -0.063780\n",
       "2019-09-02  0.932560 -0.439122  1.729468  0.583514 -0.287404\n",
       "2019-09-03 -0.674822 -0.351544  1.314772 -1.644808 -1.113318\n",
       "2019-09-04 -0.891556 -0.936772  0.204944  0.880675  0.348416\n",
       "2019-09-05 -0.426171  0.926382 -0.290354  1.407266 -0.942922\n",
       "2019-09-06  0.282148  2.146523 -0.155217  0.320865  0.442007\n",
       "2019-09-07 -0.075802  0.142222 -0.635275 -0.519280  0.112458\n",
       "2019-09-08  0.908411  0.131336  0.879687 -0.016738  0.552398\n",
       "2019-09-09  0.655663 -0.599569 -0.230790  0.213878  0.167466\n",
       "2019-09-10 -0.554291  0.984001 -0.671716  2.006060 -1.097236"
      ]
     },
     "execution_count": 4,
     "metadata": {},
     "output_type": "execute_result"
    }
   ],
   "source": [
    "df"
   ]
  },
  {
   "cell_type": "code",
   "execution_count": 5,
   "metadata": {},
   "outputs": [
    {
     "data": {
      "text/plain": [
       "Rand_A    2.096743\n",
       "Rand_E    2.146523\n",
       "Rand_C    1.729468\n",
       "Rand_D    2.006060\n",
       "Rand_B    0.552398\n",
       "dtype: float64"
      ]
     },
     "execution_count": 5,
     "metadata": {},
     "output_type": "execute_result"
    }
   ],
   "source": [
    "df.max()"
   ]
  },
  {
   "cell_type": "code",
   "execution_count": 6,
   "metadata": {},
   "outputs": [
    {
     "data": {
      "text/plain": [
       "2019-09-01    2.096743\n",
       "2019-09-02    0.932560\n",
       "2019-09-03   -0.674822\n",
       "2019-09-04   -0.891556\n",
       "2019-09-05   -0.426171\n",
       "2019-09-06    0.282148\n",
       "2019-09-07   -0.075802\n",
       "2019-09-08    0.908411\n",
       "2019-09-09    0.655663\n",
       "2019-09-10   -0.554291\n",
       "Freq: D, Name: Rand_A, dtype: float64"
      ]
     },
     "execution_count": 6,
     "metadata": {},
     "output_type": "execute_result"
    }
   ],
   "source": [
    "df['Rand_A']"
   ]
  },
  {
   "cell_type": "code",
   "execution_count": null,
   "metadata": {},
   "outputs": [],
   "source": []
  }
 ],
 "metadata": {
  "kernelspec": {
   "display_name": "Python 3",
   "language": "python",
   "name": "python3"
  },
  "language_info": {
   "codemirror_mode": {
    "name": "ipython",
    "version": 3
   },
   "file_extension": ".py",
   "mimetype": "text/x-python",
   "name": "python",
   "nbconvert_exporter": "python",
   "pygments_lexer": "ipython3",
   "version": "3.7.3"
  }
 },
 "nbformat": 4,
 "nbformat_minor": 4
}
